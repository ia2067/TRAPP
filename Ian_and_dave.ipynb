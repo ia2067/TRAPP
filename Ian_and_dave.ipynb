{
 "cells": [
  {
   "cell_type": "markdown",
   "metadata": {},
   "source": [
    "## Ian and Dave's Overhead Comparison"
   ]
  },
  {
   "cell_type": "code",
   "execution_count": 1,
   "metadata": {},
   "outputs": [
    {
     "data": {
      "image/png": "[encoded data removed]",
      "text/plain": [
       "<Figure size 720x360 with 1 Axes>"
      ]
     },
     "metadata": {
      "needs_background": "light"
     },
     "output_type": "display_data"
    },
    {
     "name": "stdout",
     "output_type": "stream",
     "text": [
      "************\n",
      "OVERHEAD\n",
      "************\n",
      "Before\n",
      "Average overhead is 2.15340592072\n",
      "Median overhead is 1.93349898547\n",
      "Variance of overhead is 1.01945783749\n",
      "************\n",
      "After\n",
      "Average overhead is 2.89224567255\n",
      "Median overhead is 1.96723703534\n",
      "Variance of overhead is 7.99634867159\n",
      "************\n",
      "There is a decrease of trip overhead by 1.7449220362%\n"
     ]
    }
   ],
   "source": [
    "%matplotlib inline  \n",
    "import matplotlib as mpl\n",
    "import matplotlib.pyplot as plt\n",
    "from statistics import mean, median, variance\n",
    "plt.rcParams['figure.figsize'] = [10, 5]\n",
    "import pprint\n",
    "import math\n",
    "\n",
    "def get_overheads(file_name):\n",
    "    data = []\n",
    "    with open(file_name, 'r') as results:\n",
    "        for line in results:\n",
    "            line = line.split(\",\")\n",
    "            trip_duration = float(line[4])\n",
    "            overhead = float(line[6])\n",
    "            agent = line[7]\n",
    "            preference = line[8].replace('\\r', '').replace('\\n', '')\n",
    "            \n",
    "            data.append(overhead)\n",
    "    return data\n",
    "\n",
    "before_csv = \"data/overheads-1.csv\"\n",
    "after_csv  = \"data/overheads.csv\"\n",
    "\n",
    "\n",
    "overheads_before = get_overheads(before_csv)\n",
    "overheads_after = get_overheads(after_csv)\n",
    "\n",
    "overheads = []\n",
    "overheads.append(overheads_before)\n",
    "overheads.append(overheads_after)\n",
    "\n",
    "labels = []\n",
    "labels.append(\"Before\")\n",
    "labels.append(\"After\")\n",
    "\n",
    "plt.figure()\n",
    "plt.boxplot(overheads, labels=labels)\n",
    "plt.show()\n",
    "\n",
    "print(\"************\")\n",
    "print(\"OVERHEAD\")\n",
    "print(\"************\")\n",
    "for i in range(len(overheads)):   \n",
    "    print(\"%s\" % (labels[i]))\n",
    "    print(\"Average overhead is % s\" % (mean(overheads[i]))) \n",
    "    print(\"Median overhead is % s\" % (median(overheads[i]))) \n",
    "    print(\"Variance of overhead is % s\" % (variance(overheads[i]))) \n",
    "    print(\"************\")\n",
    "    \n",
    "\n",
    "baseline = median(overheads_before)\n",
    "diff_percentage = ((median(overheads_after) - baseline) / baseline) * 100\n",
    "\n",
    "print \"There is a decrease of trip overhead by \" + str((diff_percentage)) + \"%\""
   ]
  },
  {
   "cell_type": "code",
   "execution_count": 2,
   "metadata": {},
   "outputs": [
    {
     "data": {
      "image/png": "[encoded data removed]",
      "text/plain": [
       "<Figure size 432x288 with 1 Axes>"
      ]
     },
     "metadata": {
      "needs_background": "light"
     },
     "output_type": "display_data"
    },
    {
     "name": "stdout",
     "output_type": "stream",
     "text": [
      "************\n",
      "STREET UTILIZATION\n",
      "************\n",
      "Before\n",
      "Average street utilization is 0.0241086269191\n",
      "Median street utilization is 0.00619898749871\n",
      "Variance of street utilization is 0.00300946819464\n",
      "************\n",
      "After\n",
      "Average street utilization is 0.0242761480756\n",
      "Median street utilization is 0.00375690607735\n",
      "Variance of street utilization is 0.00724081684711\n",
      "************\n",
      "There is a decrease of street utilization by 140.601208546%\n"
     ]
    }
   ],
   "source": [
    "def get_utilizations(file_name):\n",
    "    utilizations = []\n",
    "    line_no = 0\n",
    "        \n",
    "    with open(file_name, 'r') as results:\n",
    "        for line in results:\n",
    "            line = line.split(\",\")\n",
    "            line[len(line)-1] = line[len(line)-1].replace('\\r', '').replace('\\n', '')\n",
    "            line_no = line_no + 1\n",
    "            if line_no == 1:\n",
    "                edges = line\n",
    "            else: \n",
    "                utilizations.append([float(u) for u in line[1:]])   \n",
    "    \n",
    "    streets_data = {}\n",
    "    for i in range(len(edges)):\n",
    "        streets_data[edges[i]] = [utilization[i] for utilization in utilizations]\n",
    "\n",
    "    streets_utilizations = {}\n",
    "    for key, value in streets_data.iteritems():\n",
    "        streets_utilizations[key] = mean(value)\n",
    "    \n",
    "    return streets_utilizations\n",
    "\n",
    "before_csv = \"data/streets-1.csv\"\n",
    "after_csv  = \"data/streets.csv\"\n",
    "\n",
    "streets_before = get_utilizations(before_csv)\n",
    "streets_after = get_utilizations(after_csv)\n",
    "\n",
    "streets = []\n",
    "streets.append(streets_before.values())\n",
    "streets.append(streets_after.values())\n",
    "\n",
    "labels = []\n",
    "labels.append(\"Before\")\n",
    "labels.append(\"After\")\n",
    "\n",
    "plt.figure()\n",
    "plt.boxplot(streets, labels=labels)\n",
    "plt.show()\n",
    "\n",
    "print(\"************\")\n",
    "print(\"STREET UTILIZATION\")\n",
    "print(\"************\")\n",
    "for i in range(len(streets)):   \n",
    "    print(\"%s\" % (labels[i]))\n",
    "    print(\"Average street utilization is % s\" % (mean(streets[i]))) \n",
    "    print(\"Median street utilization is % s\" % (median(streets[i]))) \n",
    "    print(\"Variance of street utilization is % s\" % (variance(streets[i]))) \n",
    "    print(\"************\")\n",
    "    \n",
    "baseline = variance(streets_before.values())\n",
    "diff_percentage = ((variance(streets_after.values()) - baseline) / baseline) * 100\n",
    "\n",
    "print \"There is a decrease of street utilization by \" + str((diff_percentage)) + \"%\""
   ]
  },
  {
   "cell_type": "code",
   "execution_count": 3,
   "metadata": {},
   "outputs": [
    {
     "data": {
      "image/png": "[encoded data removed]",
      "text/plain": [
       "<Figure size 432x288 with 1 Axes>"
      ]
     },
     "metadata": {
      "needs_background": "light"
     },
     "output_type": "display_data"
    },
    {
     "name": "stdout",
     "output_type": "stream",
     "text": [
      "************\n",
      "LANE WAIT TIMES\n",
      "************\n",
      "Before\n",
      "Average lane wait time is 0.0241086269191\n",
      "Median lane wait time is 0.00619898749871\n",
      "Variance of lane wait times is 0.00300946819464\n",
      "************\n",
      "After\n",
      "Average lane wait time is 0.0242761480756\n",
      "Median lane wait time is 0.00375690607735\n",
      "Variance of lane wait times is 0.00724081684711\n",
      "************\n",
      "There is a decrease of lane wait times by 458.703942838%\n"
     ]
    }
   ],
   "source": [
    "def get_wait_times(file_name):\n",
    "    wait_times = []\n",
    "    line_no = 0\n",
    "        \n",
    "    with open(file_name, 'r') as results:\n",
    "        for line in results:\n",
    "            line = line.split(\",\")\n",
    "            line[len(line)-1] = line[len(line)-1].replace('\\r', '').replace('\\n', '')\n",
    "            line_no = line_no + 1\n",
    "            if line_no == 1:\n",
    "                lanes = line\n",
    "            else: \n",
    "                wait_times.append([float(u) for u in line[1:]])   \n",
    "    \n",
    "    wait_times_data = {}\n",
    "    for i in range(len(lanes)):\n",
    "        wait_times_data[lanes[i]] = [wait_time[i] for wait_time in wait_times]\n",
    "\n",
    "    lane_wait_times = {}\n",
    "    for key, value in wait_times_data.iteritems():\n",
    "        lane_wait_times[key] = mean(value)\n",
    "    \n",
    "    return lane_wait_times\n",
    "\n",
    "before_csv = \"data/waits-1.csv\"\n",
    "after_csv  = \"data/waits.csv\"\n",
    "\n",
    "waits_before = get_wait_times(before_csv)\n",
    "waits_after  = get_wait_times(after_csv)\n",
    "\n",
    "waits = []\n",
    "waits.append(waits_before.values())\n",
    "waits.append(waits_after.values())\n",
    "\n",
    "labels = []\n",
    "labels.append(\"Before\")\n",
    "labels.append(\"After\")\n",
    "\n",
    "plt.figure()\n",
    "plt.boxplot(streets, labels=labels)\n",
    "plt.show()\n",
    "\n",
    "print(\"************\")\n",
    "print(\"LANE WAIT TIMES\")\n",
    "print(\"************\")\n",
    "for i in range(len(waits)):   \n",
    "    print(\"%s\" % (labels[i]))\n",
    "    print(\"Average lane wait time is % s\" % (mean(streets[i]))) \n",
    "    print(\"Median lane wait time is % s\" % (median(streets[i]))) \n",
    "    print(\"Variance of lane wait times is % s\" % (variance(streets[i]))) \n",
    "    print(\"************\")\n",
    "    \n",
    "baseline = mean(waits_before.values())\n",
    "diff_percentage = ((mean(waits_after.values()) - baseline) / baseline) * 100\n",
    "\n",
    "print \"There is a decrease of lane wait times by \" + str((diff_percentage)) + \"%\""
   ]
  },
  {
   "cell_type": "code",
   "execution_count": null,
   "metadata": {},
   "outputs": [],
   "source": []
  }
 ],
 "metadata": {
  "anaconda-cloud": {},
  "kernelspec": {
   "display_name": "Python 2",
   "language": "python",
   "name": "python2"
  },
  "language_info": {
   "codemirror_mode": {
    "name": "ipython",
    "version": 2
   },
   "file_extension": ".py",
   "mimetype": "text/x-python",
   "name": "python",
   "nbconvert_exporter": "python",
   "pygments_lexer": "ipython2",
   "version": "2.7.15rc1"
  }
 },
 "nbformat": 4,
 "nbformat_minor": 1
}
