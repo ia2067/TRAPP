{
 "cells": [
  {
   "cell_type": "markdown",
   "metadata": {},
   "source": [
    "## Ian and Dave's Overhead Comparison"
   ]
  },
  {
   "cell_type": "code",
   "execution_count": 7,
   "metadata": {},
   "outputs": [
    {
     "data": {
      "image/png": "[encoded data removed]",
      "text/plain": [
       "<Figure size 720x360 with 1 Axes>"
      ]
     },
     "metadata": {
      "needs_background": "light"
     },
     "output_type": "display_data"
    },
    {
     "name": "stdout",
     "output_type": "stream",
     "text": [
      "************\n",
      "OVERHEAD\n",
      "************\n",
      "Before\n",
      "Average overhead is 1.96189483964\n",
      "Median overhead is 1.7597666537\n",
      "Variance of overhead is 0.925147951066\n",
      "************\n",
      "After\n",
      "Average overhead is 1.96953942274\n",
      "Median overhead is 1.74305844375\n",
      "Variance of overhead is 0.893560351414\n",
      "************\n",
      "There is a decrease of trip overhead by 0.949455992777%\n"
     ]
    }
   ],
   "source": [
    "%matplotlib inline  \n",
    "import matplotlib as mpl\n",
    "import matplotlib.pyplot as plt\n",
    "from statistics import mean, median, variance\n",
    "plt.rcParams['figure.figsize'] = [10, 5]\n",
    "import pprint\n",
    "import math\n",
    "\n",
    "def get_overheads(file_name):\n",
    "    data = []\n",
    "    with open(file_name, 'r') as results:\n",
    "        for line in results:\n",
    "            line = line.split(\",\")\n",
    "            trip_duration = float(line[4])\n",
    "            overhead = float(line[6])\n",
    "            agent = line[7]\n",
    "            preference = line[8].replace('\\r', '').replace('\\n', '')\n",
    "            \n",
    "            data.append(overhead)\n",
    "    return data\n",
    "\n",
    "before_csv = \"data/overheads-1.csv\"\n",
    "after_csv  = \"data/overheads.csv\"\n",
    "\n",
    "\n",
    "overheads_before = get_overheads(before_csv)\n",
    "overheads_after = get_overheads(after_csv)\n",
    "\n",
    "overheads = []\n",
    "overheads.append(overheads_before)\n",
    "overheads.append(overheads_after)\n",
    "\n",
    "labels = []\n",
    "labels.append(\"Before\")\n",
    "labels.append(\"After\")\n",
    "\n",
    "plt.figure()\n",
    "plt.boxplot(overheads, labels=labels)\n",
    "plt.show()\n",
    "\n",
    "print(\"************\")\n",
    "print(\"OVERHEAD\")\n",
    "print(\"************\")\n",
    "for i in range(len(overheads)):   \n",
    "    print(\"%s\" % (labels[i]))\n",
    "    print(\"Average overhead is % s\" % (mean(overheads[i]))) \n",
    "    print(\"Median overhead is % s\" % (median(overheads[i]))) \n",
    "    print(\"Variance of overhead is % s\" % (variance(overheads[i]))) \n",
    "    print(\"************\")\n",
    "    \n",
    "\n",
    "baseline = median(overheads_before)\n",
    "diff_percentage = ((median(overheads_after) - baseline) / baseline) * 100\n",
    "\n",
    "print \"There is a decrease of trip overhead by \" + str(abs(diff_percentage)) + \"%\""
   ]
  },
  {
   "cell_type": "code",
   "execution_count": 9,
   "metadata": {},
   "outputs": [
    {
     "data": {
      "image/png": "[encoded data removed]",
      "text/plain": [
       "<Figure size 720x360 with 1 Axes>"
      ]
     },
     "metadata": {
      "needs_background": "light"
     },
     "output_type": "display_data"
    },
    {
     "name": "stdout",
     "output_type": "stream",
     "text": [
      "************\n",
      "STREET UTILIZATION\n",
      "************\n",
      "Before\n",
      "Average street utilization is 0.0247632366721\n",
      "Median street utilization is 0.00664153652845\n",
      "Variance of street utilization is 0.00311563359972\n",
      "************\n",
      "After\n",
      "Average street utilization is 0.0244166843404\n",
      "Median street utilization is 0.00729457198026\n",
      "Variance of street utilization is 0.00303043210465\n",
      "************\n",
      "There is a decrease of street utilization by 2.73464424959%\n"
     ]
    }
   ],
   "source": [
    "def get_utilizations(file_name):\n",
    "    utilizations = []\n",
    "    line_no = 0\n",
    "        \n",
    "    with open(file_name, 'r') as results:\n",
    "        for line in results:\n",
    "            line = line.split(\",\")\n",
    "            line[len(line)-1] = line[len(line)-1].replace('\\r', '').replace('\\n', '')\n",
    "            line_no = line_no + 1\n",
    "            if line_no == 1:\n",
    "                edges = line\n",
    "            else: \n",
    "                utilizations.append([float(u) for u in line[1:]])   \n",
    "    \n",
    "    streets_data = {}\n",
    "    for i in range(len(edges)):\n",
    "        streets_data[edges[i]] = [utilization[i] for utilization in utilizations]\n",
    "\n",
    "    streets_utilizations = {}\n",
    "    for key, value in streets_data.iteritems():\n",
    "        streets_utilizations[key] = mean(value)\n",
    "    \n",
    "    return streets_utilizations\n",
    "\n",
    "before_csv = \"data/streets-1.csv\"\n",
    "after_csv  = \"data/streets.csv\"\n",
    "\n",
    "streets_before = get_utilizations(before_csv)\n",
    "streets_after = get_utilizations(after_csv)\n",
    "\n",
    "streets = []\n",
    "streets.append(streets_before.values())\n",
    "streets.append(streets_after.values())\n",
    "\n",
    "labels = []\n",
    "labels.append(\"Before\")\n",
    "labels.append(\"After\")\n",
    "\n",
    "plt.figure()\n",
    "plt.boxplot(streets, labels=labels)\n",
    "plt.show()\n",
    "\n",
    "print(\"************\")\n",
    "print(\"STREET UTILIZATION\")\n",
    "print(\"************\")\n",
    "for i in range(len(streets)):   \n",
    "    print(\"%s\" % (labels[i]))\n",
    "    print(\"Average street utilization is % s\" % (mean(streets[i]))) \n",
    "    print(\"Median street utilization is % s\" % (median(streets[i]))) \n",
    "    print(\"Variance of street utilization is % s\" % (variance(streets[i]))) \n",
    "    print(\"************\")\n",
    "    \n",
    "baseline = variance(streets_before.values())\n",
    "diff_percentage = ((variance(streets_after.values()) - baseline) / baseline) * 100\n",
    "\n",
    "print \"There is a decrease of street utilization by \" + str(abs(diff_percentage)) + \"%\""
   ]
  },
  {
   "cell_type": "code",
   "execution_count": 11,
   "metadata": {},
   "outputs": [
    {
     "data": {
      "image/png": "[encoded data removed]",
      "text/plain": [
       "<Figure size 720x360 with 1 Axes>"
      ]
     },
     "metadata": {
      "needs_background": "light"
     },
     "output_type": "display_data"
    },
    {
     "name": "stdout",
     "output_type": "stream",
     "text": [
      "************\n",
      "LANE WAIT TIMES\n",
      "************\n",
      "Before\n",
      "Average lane wait time is 0.0247632366721\n",
      "Median lane wait time is 0.00664153652845\n",
      "Variance of lane wait times is 0.00311563359972\n",
      "************\n",
      "After\n",
      "Average lane wait time is 0.0244166843404\n",
      "Median lane wait time is 0.00729457198026\n",
      "Variance of lane wait times is 0.00303043210465\n",
      "************\n",
      "There is a decrease of lane wait times by 4.38420008909%\n"
     ]
    }
   ],
   "source": [
    "def get_wait_times(file_name):\n",
    "    wait_times = []\n",
    "    line_no = 0\n",
    "        \n",
    "    with open(file_name, 'r') as results:\n",
    "        for line in results:\n",
    "            line = line.split(\",\")\n",
    "            line[len(line)-1] = line[len(line)-1].replace('\\r', '').replace('\\n', '')\n",
    "            line_no = line_no + 1\n",
    "            if line_no == 1:\n",
    "                lanes = line\n",
    "            else: \n",
    "                wait_times.append([float(u) for u in line[1:]])   \n",
    "    \n",
    "    wait_times_data = {}\n",
    "    for i in range(len(lanes)):\n",
    "        wait_times_data[lanes[i]] = [wait_time[i] for wait_time in wait_times]\n",
    "\n",
    "    lane_wait_times = {}\n",
    "    for key, value in wait_times_data.iteritems():\n",
    "        lane_wait_times[key] = mean(value)\n",
    "    \n",
    "    return lane_wait_times\n",
    "\n",
    "before_csv = \"data/waits-1.csv\"\n",
    "after_csv  = \"data/waits.csv\"\n",
    "\n",
    "waits_before = get_wait_times(before_csv)\n",
    "waits_after  = get_wait_times(after_csv)\n",
    "\n",
    "waits = []\n",
    "waits.append(waits_before.values())\n",
    "waits.append(waits_after.values())\n",
    "\n",
    "labels = []\n",
    "labels.append(\"Before\")\n",
    "labels.append(\"After\")\n",
    "\n",
    "plt.figure()\n",
    "plt.boxplot(streets, labels=labels)\n",
    "plt.show()\n",
    "\n",
    "print(\"************\")\n",
    "print(\"LANE WAIT TIMES\")\n",
    "print(\"************\")\n",
    "for i in range(len(waits)):   \n",
    "    print(\"%s\" % (labels[i]))\n",
    "    print(\"Average lane wait time is % s\" % (mean(streets[i]))) \n",
    "    print(\"Median lane wait time is % s\" % (median(streets[i]))) \n",
    "    print(\"Variance of lane wait times is % s\" % (variance(streets[i]))) \n",
    "    print(\"************\")\n",
    "    \n",
    "baseline = variance(waits_before.values())\n",
    "diff_percentage = ((variance(waits_after.values()) - baseline) / baseline) * 100\n",
    "\n",
    "print \"There is a decrease of lane wait times by \" + str(abs(diff_percentage)) + \"%\""
   ]
  },
  {
   "cell_type": "code",
   "execution_count": null,
   "metadata": {},
   "outputs": [],
   "source": []
  }
 ],
 "metadata": {
  "anaconda-cloud": {},
  "kernelspec": {
   "display_name": "Python 2",
   "language": "python",
   "name": "python2"
  },
  "language_info": {
   "codemirror_mode": {
    "name": "ipython",
    "version": 2
   },
   "file_extension": ".py",
   "mimetype": "text/x-python",
   "name": "python",
   "nbconvert_exporter": "python",
   "pygments_lexer": "ipython2",
   "version": "2.7.15rc1"
  }
 },
 "nbformat": 4,
 "nbformat_minor": 1
}
